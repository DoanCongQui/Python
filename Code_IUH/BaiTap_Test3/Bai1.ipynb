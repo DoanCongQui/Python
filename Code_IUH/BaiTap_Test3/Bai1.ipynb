{
 "cells": [
  {
   "cell_type": "code",
   "execution_count": 1,
   "metadata": {},
   "outputs": [],
   "source": [
    "import pandas as pd "
   ]
  },
  {
   "cell_type": "code",
   "execution_count": 2,
   "metadata": {},
   "outputs": [],
   "source": [
    "df = pd.read_csv('bai1_tips.csv')"
   ]
  },
  {
   "cell_type": "code",
   "execution_count": 3,
   "metadata": {},
   "outputs": [
    {
     "data": {
      "text/html": [
       "<div>\n",
       "<style scoped>\n",
       "    .dataframe tbody tr th:only-of-type {\n",
       "        vertical-align: middle;\n",
       "    }\n",
       "\n",
       "    .dataframe tbody tr th {\n",
       "        vertical-align: top;\n",
       "    }\n",
       "\n",
       "    .dataframe thead th {\n",
       "        text-align: right;\n",
       "    }\n",
       "</style>\n",
       "<table border=\"1\" class=\"dataframe\">\n",
       "  <thead>\n",
       "    <tr style=\"text-align: right;\">\n",
       "      <th></th>\n",
       "      <th>total_bill</th>\n",
       "      <th>tip</th>\n",
       "      <th>sex</th>\n",
       "      <th>smoker</th>\n",
       "      <th>day</th>\n",
       "      <th>time</th>\n",
       "      <th>size</th>\n",
       "    </tr>\n",
       "  </thead>\n",
       "  <tbody>\n",
       "    <tr>\n",
       "      <th>0</th>\n",
       "      <td>16.99</td>\n",
       "      <td>1.01</td>\n",
       "      <td>Female</td>\n",
       "      <td>No</td>\n",
       "      <td>Sun</td>\n",
       "      <td>Dinner</td>\n",
       "      <td>2</td>\n",
       "    </tr>\n",
       "    <tr>\n",
       "      <th>1</th>\n",
       "      <td>10.34</td>\n",
       "      <td>1.66</td>\n",
       "      <td>Male</td>\n",
       "      <td>No</td>\n",
       "      <td>Sun</td>\n",
       "      <td>Dinner</td>\n",
       "      <td>3</td>\n",
       "    </tr>\n",
       "    <tr>\n",
       "      <th>2</th>\n",
       "      <td>21.01</td>\n",
       "      <td>3.50</td>\n",
       "      <td>Male</td>\n",
       "      <td>No</td>\n",
       "      <td>Sun</td>\n",
       "      <td>Dinner</td>\n",
       "      <td>3</td>\n",
       "    </tr>\n",
       "    <tr>\n",
       "      <th>3</th>\n",
       "      <td>23.68</td>\n",
       "      <td>3.31</td>\n",
       "      <td>Male</td>\n",
       "      <td>No</td>\n",
       "      <td>Sun</td>\n",
       "      <td>Dinner</td>\n",
       "      <td>2</td>\n",
       "    </tr>\n",
       "    <tr>\n",
       "      <th>4</th>\n",
       "      <td>24.59</td>\n",
       "      <td>3.61</td>\n",
       "      <td>Female</td>\n",
       "      <td>No</td>\n",
       "      <td>Sun</td>\n",
       "      <td>Dinner</td>\n",
       "      <td>4</td>\n",
       "    </tr>\n",
       "  </tbody>\n",
       "</table>\n",
       "</div>"
      ],
      "text/plain": [
       "   total_bill   tip     sex smoker  day    time  size\n",
       "0       16.99  1.01  Female     No  Sun  Dinner     2\n",
       "1       10.34  1.66    Male     No  Sun  Dinner     3\n",
       "2       21.01  3.50    Male     No  Sun  Dinner     3\n",
       "3       23.68  3.31    Male     No  Sun  Dinner     2\n",
       "4       24.59  3.61  Female     No  Sun  Dinner     4"
      ]
     },
     "execution_count": 3,
     "metadata": {},
     "output_type": "execute_result"
    }
   ],
   "source": [
    "df.head()"
   ]
  },
  {
   "cell_type": "code",
   "execution_count": 4,
   "metadata": {},
   "outputs": [
    {
     "data": {
      "text/plain": [
       "(244, 7)"
      ]
     },
     "execution_count": 4,
     "metadata": {},
     "output_type": "execute_result"
    }
   ],
   "source": [
    "df.shape"
   ]
  },
  {
   "cell_type": "markdown",
   "metadata": {},
   "source": [
    "**1. Tính tổng tiền hóa đơn và tiền tip trung bình theo từng ngày.**"
   ]
  },
  {
   "cell_type": "code",
   "execution_count": 5,
   "metadata": {},
   "outputs": [
    {
     "name": "stdout",
     "output_type": "stream",
     "text": [
      "    Day    Total\n",
      "0   Fri   325.88\n",
      "1   Sat  1778.40\n",
      "2   Sun  1627.16\n",
      "3  Thur  1096.33\n"
     ]
    }
   ],
   "source": [
    "total = df.groupby('day')['total_bill'].sum().reset_index()\n",
    "total.columns = ['Day', 'Total']\n",
    "\n",
    "print(total)"
   ]
  },
  {
   "cell_type": "code",
   "execution_count": 6,
   "metadata": {},
   "outputs": [
    {
     "name": "stdout",
     "output_type": "stream",
     "text": [
      "    Day   Avg_tip\n",
      "0   Fri  2.734737\n",
      "1   Sat  2.993103\n",
      "2   Sun  3.255132\n",
      "3  Thur  2.771452\n"
     ]
    }
   ],
   "source": [
    "avg = df.groupby('day')['tip'].mean().reset_index()\n",
    "\n",
    "avg.columns = ['Day', 'Avg_tip']\n",
    "\n",
    "print(avg)"
   ]
  },
  {
   "cell_type": "markdown",
   "metadata": {},
   "source": [
    "**2. Tính tỷ lệ tiền tip so với tổng hóa đơn, sau đó tìm khách hàng nào đã tip nhiều nhất (theo tỷ lệ).**"
   ]
  },
  {
   "cell_type": "code",
   "execution_count": null,
   "metadata": {},
   "outputs": [
    {
     "name": "stdout",
     "output_type": "stream",
     "text": [
      "      tip  total_bill      Tile\n",
      "0    1.01       16.99  0.059447\n",
      "1    1.66       10.34  0.160542\n",
      "2    3.50       21.01  0.166587\n",
      "3    3.31       23.68  0.139780\n",
      "4    3.61       24.59  0.146808\n",
      "..    ...         ...       ...\n",
      "239  5.92       29.03  0.203927\n",
      "240  2.00       27.18  0.073584\n",
      "241  2.00       22.67  0.088222\n",
      "242  1.75       17.82  0.098204\n",
      "243  3.00       18.78  0.159744\n",
      "\n",
      "[244 rows x 3 columns]\n"
     ]
    }
   ],
   "source": [
    "df['Tile']=df['tip']/df['total_bill']\n",
    "\n",
    "print(df[['tip', 'total_bill', 'Tile']])"
   ]
  },
  {
   "cell_type": "code",
   "execution_count": 22,
   "metadata": {},
   "outputs": [
    {
     "name": "stdout",
     "output_type": "stream",
     "text": [
      "Male\n"
     ]
    }
   ],
   "source": [
    "khang_shop = df.loc[df['tip'].idxmax(), 'sex']\n",
    "print(khang_shop)"
   ]
  },
  {
   "cell_type": "code",
   "execution_count": null,
   "metadata": {},
   "outputs": [
    {
     "name": "stdout",
     "output_type": "stream",
     "text": [
      "157\n",
      "87\n",
      "Male>Fenale\n"
     ]
    }
   ],
   "source": [
    "nam = df[df['sex'] == \"Male\"].shape[0]\n",
    "nu = df[df['sex'] == \"Female\"].shape[0]\n",
    "\n",
    "if nam > nu:\n",
    "    print(\"Male>Fenale\")\n",
    "else:    \n",
    "    print(\"Male<Fenale\")"
   ]
  },
  {
   "cell_type": "code",
   "execution_count": 43,
   "metadata": {},
   "outputs": [
    {
     "name": "stdout",
     "output_type": "stream",
     "text": [
      "Male tiep nhieu hon\n"
     ]
    }
   ],
   "source": [
    "avg_nam = df.loc[df['sex'] == \"Male\", 'tip'].mean()\n",
    "avg_nu = df.loc[df['sex'] == \"Female\", 'tip'].mean()\n",
    "\n",
    "if avg_nam > avg_nu:\n",
    "    print(\"Male tiep nhieu hon\")\n",
    "else: print(\"Female tiep nhieu hon\")"
   ]
  },
  {
   "cell_type": "code",
   "execution_count": 50,
   "metadata": {},
   "outputs": [
    {
     "name": "stdout",
     "output_type": "stream",
     "text": [
      "Co 39 bua an co tien tiep > 20%\n"
     ]
    }
   ],
   "source": [
    "df['Tip_Percebtage'] = (df['tip']/df['total_bill'])*100\n",
    "loc_ti_le = df.loc[df['Tip_Percebtage'] >= 20, 'day']\n",
    "\n",
    "print(f'Co {loc_ti_le.shape[0]} bua an co tien tiep > 20%')\n",
    "\n"
   ]
  }
 ],
 "metadata": {
  "kernelspec": {
   "display_name": "Python 3",
   "language": "python",
   "name": "python3"
  },
  "language_info": {
   "codemirror_mode": {
    "name": "ipython",
    "version": 3
   },
   "file_extension": ".py",
   "mimetype": "text/x-python",
   "name": "python",
   "nbconvert_exporter": "python",
   "pygments_lexer": "ipython3",
   "version": "3.10.2"
  }
 },
 "nbformat": 4,
 "nbformat_minor": 2
}
